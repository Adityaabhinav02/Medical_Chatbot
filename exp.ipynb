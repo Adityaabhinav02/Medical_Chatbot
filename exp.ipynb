{
 "cells": [
  {
   "cell_type": "code",
   "execution_count": 17,
   "metadata": {},
   "outputs": [],
   "source": [
    "from langchain import PromptTemplate\n",
    "from langchain.chains import RetrievalQA\n",
    "from langchain.embeddings import HuggingFaceEmbeddings\n",
    "from langchain.vectorstores import Pinecone\n",
    "import pinecone\n",
    "from langchain.document_loaders import PyPDFLoader, DirectoryLoader\n",
    "from langchain.text_splitter import RecursiveCharacterTextSplitter\n",
    "from langchain.prompts import PromptTemplate\n",
    "from langchain.llms import CTransformers"
   ]
  },
  {
   "cell_type": "code",
   "execution_count": 18,
   "metadata": {},
   "outputs": [],
   "source": [
    "def load_pdf(data):\n",
    "    loader = DirectoryLoader(data,\n",
    "                    glob=\"*.pdf\",\n",
    "                    loader_cls=PyPDFLoader)\n",
    "    \n",
    "    documents = loader.load()\n",
    "\n",
    "    return documents"
   ]
  },
  {
   "cell_type": "code",
   "execution_count": 19,
   "metadata": {},
   "outputs": [],
   "source": [
    "ext_data = load_pdf(\"Data/\")"
   ]
  },
  {
   "cell_type": "code",
   "execution_count": 40,
   "metadata": {},
   "outputs": [],
   "source": [
    "def text_split(ext_data):\n",
    "    text_splitter = RecursiveCharacterTextSplitter(chunk_size=500,chunk_overlap=20)\n",
    "    text_chunks = text_splitter.split_documents(ext_data)\n",
    "\n",
    "    return text_chunks"
   ]
  },
  {
   "cell_type": "code",
   "execution_count": 41,
   "metadata": {},
   "outputs": [],
   "source": [
    "text_chunks = text_split(ext_data)"
   ]
  },
  {
   "cell_type": "code",
   "execution_count": 42,
   "metadata": {},
   "outputs": [
    {
     "name": "stdout",
     "output_type": "stream",
     "text": [
      "7020\n"
     ]
    }
   ],
   "source": [
    "print(len(text_chunks))"
   ]
  },
  {
   "cell_type": "code",
   "execution_count": 31,
   "metadata": {},
   "outputs": [],
   "source": [
    "# #download embedding model\n",
    "# def download_hugging_face_embeddings():\n",
    "#     embeddings = HuggingFaceEmbeddings(model_name=\"sentence-transformers/all-MiniLM-L6-v2\")\n",
    "#     return embeddings\n",
    "# embeddings = download_hugging_face_embeddings()"
   ]
  },
  {
   "cell_type": "code",
   "execution_count": 43,
   "metadata": {},
   "outputs": [],
   "source": [
    "from dotenv import load_dotenv\n",
    "load_dotenv()\n",
    "import os"
   ]
  },
  {
   "cell_type": "code",
   "execution_count": 44,
   "metadata": {},
   "outputs": [],
   "source": [
    "PINECONE1_API_KEY = os.environ.get('PINECONE1_API_KEY')\n"
   ]
  },
  {
   "cell_type": "code",
   "execution_count": 45,
   "metadata": {},
   "outputs": [],
   "source": [
    "from pinecone import Pinecone\n",
    "\n",
    "pc = Pinecone(api_key=PINECONE1_API_KEY)\n",
    "index = pc.Index(\"medicalchatbot\")"
   ]
  },
  {
   "cell_type": "code",
   "execution_count": 49,
   "metadata": {},
   "outputs": [
    {
     "data": {
      "text/plain": [
       "{'upserted_count': 1000}"
      ]
     },
     "execution_count": 49,
     "metadata": {},
     "output_type": "execute_result"
    }
   ],
   "source": [
    "from sentence_transformers import SentenceTransformer\n",
    "\n",
    "# Function to download the Hugging Face embedding model\n",
    "def download_hugging_face_embeddings():\n",
    "    embeddings = SentenceTransformer(\"sentence-transformers/all-MiniLM-L6-v2\")\n",
    "    return embeddings\n",
    "\n",
    "# Load the Hugging Face embedding model\n",
    "model = download_hugging_face_embeddings()\n",
    "\n",
    "### Upserting data with meta data\n",
    "# Extract the data from text chunks\n",
    "\n",
    "cleaned_data = [t.page_content for t in text_chunks][2000:3000]\n",
    "\n",
    "# Generate embeddings for each text chunk\n",
    "embeddings = model.encode(cleaned_data)\n",
    "\n",
    "# Formatting for upserting\n",
    "\n",
    "entries = []\n",
    "for i, embedding in enumerate(embeddings):\n",
    "    entry = {\n",
    "        \"id\": f\"text-{i+3000}\",  # Replace with your ID format\n",
    "        \"values\": embedding.tolist(),\n",
    "        \"metadata\": {\"context\":cleaned_data[i]}  # Assuming metadata is provided in the same order as embeddings\n",
    "    }\n",
    "    entries.append(entry)\n",
    "\n",
    "index.upsert(vectors=entries)"
   ]
  },
  {
   "cell_type": "markdown",
   "metadata": {},
   "source": [
    " Querying"
   ]
  },
  {
   "cell_type": "code",
   "execution_count": 50,
   "metadata": {},
   "outputs": [],
   "source": [
    "query_text = \"What is allergy\"\n"
   ]
  },
  {
   "cell_type": "code",
   "execution_count": 51,
   "metadata": {},
   "outputs": [],
   "source": [
    "import torch\n",
    "\n",
    "# Assuming you have already embedded and stored embeddings for this query text\n",
    "# Generate the embedding for the query text (you would typically do this in the embedding step)\n",
    "query_embedding = model.encode([query_text])[0]\n",
    "\n",
    "# Ensure query embedding is a list of floats\n",
    "if isinstance(query_embedding, np.ndarray):\n",
    "    query_embedding = query_embedding.tolist()\n",
    "elif isinstance(query_embedding, torch.Tensor):\n",
    "    query_embedding = query_embedding.tolist()\n",
    "else:\n",
    "    raise ValueError(f\"Unexpected embedding type: {type(query_embedding)}\")\n",
    "\n"
   ]
  },
  {
   "cell_type": "code",
   "execution_count": 56,
   "metadata": {},
   "outputs": [],
   "source": [
    "# Search for similar embeddings\n",
    "results = index.query(vector=query_embedding, top_k=10,include_metadata=True)\n",
    "\n"
   ]
  },
  {
   "cell_type": "code",
   "execution_count": 57,
   "metadata": {},
   "outputs": [
    {
     "data": {
      "text/plain": [
       "{'matches': [{'id': 'text-1340',\n",
       "              'metadata': {'context': 'When thisoccurs, an allergy develops '\n",
       "                                      'against the offending sub-stance (an '\n",
       "                                      'allergen.)'},\n",
       "              'score': 0.705211341,\n",
       "              'values': []},\n",
       "             {'id': 'text-1430',\n",
       "              'metadata': {'context': 'Purpose\\n'\n",
       "                                      'Allergy is a reaction of the immune '\n",
       "                                      'system. Nor-'},\n",
       "              'score': 0.69418323,\n",
       "              'values': []},\n",
       "             {'id': 'text-1372',\n",
       "              'metadata': {'context': 'GALE ENCYCLOPEDIA OF MEDICINE 2 '\n",
       "                                      '117Allergies\\n'\n",
       "                                      'Allergic rhinitis is commonly triggered '\n",
       "                                      'by\\n'\n",
       "                                      'exposure to household dust, animal '\n",
       "                                      'fur,or pollen. The foreign substance '\n",
       "                                      'thattriggers an allergic reaction is '\n",
       "                                      'calledan allergen.\\n'\n",
       "                                      'The presence of an allergen causes the\\n'\n",
       "                                      \"body's lymphocytes to begin \"\n",
       "                                      'producingIgE antibodies. The '\n",
       "                                      'lymphocytes of an allergy sufferer '\n",
       "                                      'produce an unusuallylarge amount of '\n",
       "                                      'IgE.\\n'\n",
       "                                      'IgE molecules attach to mast\\n'\n",
       "                                      'cells, which contain '\n",
       "                                      'histamine.HistaminePollen grains\\n'\n",
       "                                      'Lymphocyte\\n'\n",
       "                                      'FIRST EXPOSURE'},\n",
       "              'score': 0.682593763,\n",
       "              'values': []},\n",
       "             {'id': 'text-1402',\n",
       "              'metadata': {'context': 'Allergen —A substance that provokes an '\n",
       "                                      'allergic\\n'\n",
       "                                      'response.\\n'\n",
       "                                      'Allergic rhinitis —Inflammation of the '\n",
       "                                      'mucous\\n'\n",
       "                                      'membranes of the nose and eyes in '\n",
       "                                      'response to anallergen.\\n'\n",
       "                                      'Anaphylaxis —Increased sensitivity '\n",
       "                                      'caused by previ-\\n'\n",
       "                                      'ous exposure to an allergen that can '\n",
       "                                      'result in bloodvessel dilation and '\n",
       "                                      'smooth muscle contraction.Anaphylaxis '\n",
       "                                      'can result in sharp blood pressuredrops '\n",
       "                                      'and difficulty breathing.\\n'\n",
       "                                      'Angioedema —Severe non-inflammatory '\n",
       "                                      'swelling of'},\n",
       "              'score': 0.670318365,\n",
       "              'values': []},\n",
       "             {'id': 'text-1437',\n",
       "              'metadata': {'context': 'the itchy, scratchy nose, eyes, and '\n",
       "                                      'throat common inallergic rhinitis .\\n'\n",
       "                                      'The particular allergens to which a '\n",
       "                                      'person is sensi-'},\n",
       "              'score': 0.667320371,\n",
       "              'values': []},\n",
       "             {'id': 'text-1452',\n",
       "              'metadata': {'context': 'KEY TERMS\\n'\n",
       "                                      'Allergen —A substance that provokes an '\n",
       "                                      'allergic\\n'\n",
       "                                      'response.\\n'\n",
       "                                      'Anaphylaxis —Increased sensitivity '\n",
       "                                      'caused by pre-\\n'\n",
       "                                      'vious exposure to an allergen that can '\n",
       "                                      'result inblood vessel dilation '\n",
       "                                      '(swelling) and smooth mus-cle '\n",
       "                                      'contraction. Anaphylaxis can result in '\n",
       "                                      'sharpblood pressure drops and '\n",
       "                                      'difficulty breathing.\\n'\n",
       "                                      'Antibody —A specific protein produced '\n",
       "                                      'by the\\n'\n",
       "                                      'immune system in response to a specific '\n",
       "                                      'foreignprotein or particle called an '\n",
       "                                      'antigen.\\n'\n",
       "                                      'Antigen —A foreign protein to which the '\n",
       "                                      'body'},\n",
       "              'score': 0.648624301,\n",
       "              'values': []},\n",
       "             {'id': 'text-1417',\n",
       "              'metadata': {'context': 'treatment is appropriate.\\n'\n",
       "                                      'Alternative treatment\\n'\n",
       "                                      'Any alternative treatment for allergies '\n",
       "                                      'begins with'},\n",
       "              'score': 0.643041313,\n",
       "              'values': []},\n",
       "             {'id': 'text-1336',\n",
       "              'metadata': {'context': 'Allergy and Immunology. Boston: Little, '\n",
       "                                      'Brown and Co.,\\n'\n",
       "                                      '1995.\\n'\n",
       "                                      'Novick, N. L. You Can Do Something '\n",
       "                                      'About Your Allergies.\\n'\n",
       "                                      'New York: Macmillan, 1994.\\n'\n",
       "                                      'Weil, A. Natural Health, Natural '\n",
       "                                      'Medicine: A Comprehensive\\n'\n",
       "                                      'Manual for Wellness and Self-Care. New '\n",
       "                                      'York: Houghton\\n'\n",
       "                                      'Mifflin, 1995.\\n'\n",
       "                                      'Richard Robinson\\n'\n",
       "                                      'Allergies\\n'\n",
       "                                      'Definition\\n'\n",
       "                                      'Allergies are abnormal reactions of the '\n",
       "                                      'immune sys-\\n'\n",
       "                                      'tem that occur in response to otherwise '\n",
       "                                      'harmless sub-stances.'},\n",
       "              'score': 0.630473733,\n",
       "              'values': []},\n",
       "             {'id': 'text-1358',\n",
       "              'metadata': {'context': 'toms of food allergies depend on the '\n",
       "                                      'tissues most sensi-tive to the allergen '\n",
       "                                      'and whether the allergen spread '\n",
       "                                      'sys-temically by the circulatory '\n",
       "                                      'system. Gastrointestinalsymptoms may '\n",
       "                                      'include swelling and tingling in the '\n",
       "                                      'lips,tongue, palate or throat; nausea; '\n",
       "                                      'cramping; diarrhea; andgas. Contact '\n",
       "                                      'dermatitis is marked by reddened, '\n",
       "                                      'itchy,weepy skin blisters, and an '\n",
       "                                      'eczema that is slow to heal. '\n",
       "                                      'Itsometimes has a characteritic '\n",
       "                                      'man-made pattern, such asa glove '\n",
       "                                      'allergy with clear demarkation on the'},\n",
       "              'score': 0.629188061,\n",
       "              'values': []},\n",
       "             {'id': 'text-1338',\n",
       "              'metadata': {'context': 'Description\\n'\n",
       "                                      'Allergies are among the most common of '\n",
       "                                      'medical\\n'\n",
       "                                      'disorders. It is estimated that 60 '\n",
       "                                      'million Americans, ormore than one in '\n",
       "                                      'every five people, suffer from someform '\n",
       "                                      'of allergy, with similar proportions '\n",
       "                                      'throughoutmuch of the rest of the '\n",
       "                                      'world. Allergy is the single '\n",
       "                                      'largestreason for school absence and is '\n",
       "                                      'a major source of lostproductivity in '\n",
       "                                      'the workplace.\\n'\n",
       "                                      'An allergy is a type of immune '\n",
       "                                      'reaction. Normally,'},\n",
       "              'score': 0.626886368,\n",
       "              'values': []}],\n",
       " 'namespace': '',\n",
       " 'usage': {'read_units': 6}}"
      ]
     },
     "execution_count": 57,
     "metadata": {},
     "output_type": "execute_result"
    }
   ],
   "source": [
    "results"
   ]
  },
  {
   "cell_type": "code",
   "execution_count": null,
   "metadata": {},
   "outputs": [],
   "source": [
    "# Search for similar embeddings\n",
    "results = index.query(vector=query_embedding, top_k=5,include_metadata=True)"
   ]
  },
  {
   "cell_type": "code",
   "execution_count": 62,
   "metadata": {},
   "outputs": [],
   "source": [
    "final_result = [result['metadata']['context'] for result in results['matches']]"
   ]
  },
  {
   "cell_type": "code",
   "execution_count": 63,
   "metadata": {},
   "outputs": [
    {
     "data": {
      "text/plain": [
       "['When thisoccurs, an allergy develops against the offending sub-stance (an allergen.)',\n",
       " 'Purpose\\nAllergy is a reaction of the immune system. Nor-',\n",
       " \"GALE ENCYCLOPEDIA OF MEDICINE 2 117Allergies\\nAllergic rhinitis is commonly triggered by\\nexposure to household dust, animal fur,or pollen. The foreign substance thattriggers an allergic reaction is calledan allergen.\\nThe presence of an allergen causes the\\nbody's lymphocytes to begin producingIgE antibodies. The lymphocytes of an allergy sufferer produce an unusuallylarge amount of IgE.\\nIgE molecules attach to mast\\ncells, which contain histamine.HistaminePollen grains\\nLymphocyte\\nFIRST EXPOSURE\",\n",
       " 'Allergen —A substance that provokes an allergic\\nresponse.\\nAllergic rhinitis —Inflammation of the mucous\\nmembranes of the nose and eyes in response to anallergen.\\nAnaphylaxis —Increased sensitivity caused by previ-\\nous exposure to an allergen that can result in bloodvessel dilation and smooth muscle contraction.Anaphylaxis can result in sharp blood pressuredrops and difficulty breathing.\\nAngioedema —Severe non-inflammatory swelling of',\n",
       " 'the itchy, scratchy nose, eyes, and throat common inallergic rhinitis .\\nThe particular allergens to which a person is sensi-',\n",
       " 'KEY TERMS\\nAllergen —A substance that provokes an allergic\\nresponse.\\nAnaphylaxis —Increased sensitivity caused by pre-\\nvious exposure to an allergen that can result inblood vessel dilation (swelling) and smooth mus-cle contraction. Anaphylaxis can result in sharpblood pressure drops and difficulty breathing.\\nAntibody —A specific protein produced by the\\nimmune system in response to a specific foreignprotein or particle called an antigen.\\nAntigen —A foreign protein to which the body',\n",
       " 'treatment is appropriate.\\nAlternative treatment\\nAny alternative treatment for allergies begins with',\n",
       " 'Allergy and Immunology. Boston: Little, Brown and Co.,\\n1995.\\nNovick, N. L. You Can Do Something About Your Allergies.\\nNew York: Macmillan, 1994.\\nWeil, A. Natural Health, Natural Medicine: A Comprehensive\\nManual for Wellness and Self-Care. New York: Houghton\\nMifflin, 1995.\\nRichard Robinson\\nAllergies\\nDefinition\\nAllergies are abnormal reactions of the immune sys-\\ntem that occur in response to otherwise harmless sub-stances.',\n",
       " 'toms of food allergies depend on the tissues most sensi-tive to the allergen and whether the allergen spread sys-temically by the circulatory system. Gastrointestinalsymptoms may include swelling and tingling in the lips,tongue, palate or throat; nausea; cramping; diarrhea; andgas. Contact dermatitis is marked by reddened, itchy,weepy skin blisters, and an eczema that is slow to heal. Itsometimes has a characteritic man-made pattern, such asa glove allergy with clear demarkation on the',\n",
       " 'Description\\nAllergies are among the most common of medical\\ndisorders. It is estimated that 60 million Americans, ormore than one in every five people, suffer from someform of allergy, with similar proportions throughoutmuch of the rest of the world. Allergy is the single largestreason for school absence and is a major source of lostproductivity in the workplace.\\nAn allergy is a type of immune reaction. Normally,']"
      ]
     },
     "execution_count": 63,
     "metadata": {},
     "output_type": "execute_result"
    }
   ],
   "source": [
    "final_result"
   ]
  },
  {
   "cell_type": "code",
   "execution_count": null,
   "metadata": {},
   "outputs": [],
   "source": []
  },
  {
   "cell_type": "code",
   "execution_count": null,
   "metadata": {},
   "outputs": [],
   "source": []
  },
  {
   "cell_type": "code",
   "execution_count": null,
   "metadata": {},
   "outputs": [],
   "source": []
  }
 ],
 "metadata": {
  "kernelspec": {
   "display_name": "mchatbot",
   "language": "python",
   "name": "python3"
  },
  "language_info": {
   "codemirror_mode": {
    "name": "ipython",
    "version": 3
   },
   "file_extension": ".py",
   "mimetype": "text/x-python",
   "name": "python",
   "nbconvert_exporter": "python",
   "pygments_lexer": "ipython3",
   "version": "3.8.19"
  }
 },
 "nbformat": 4,
 "nbformat_minor": 2
}
