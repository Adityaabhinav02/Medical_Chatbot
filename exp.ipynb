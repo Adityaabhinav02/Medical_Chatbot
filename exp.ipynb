{
 "cells": [
  {
   "cell_type": "code",
   "execution_count": 2,
   "metadata": {},
   "outputs": [
    {
     "name": "stderr",
     "output_type": "stream",
     "text": [
      "c:\\Users\\adity\\anaconda3\\envs\\mchatbot\\lib\\site-packages\\pinecone\\data\\index.py:1: TqdmWarning: IProgress not found. Please update jupyter and ipywidgets. See https://ipywidgets.readthedocs.io/en/stable/user_install.html\n",
      "  from tqdm.autonotebook import tqdm\n"
     ]
    }
   ],
   "source": [
    "from langchain import PromptTemplate\n",
    "from langchain.chains import RetrievalQA\n",
    "from langchain.embeddings import HuggingFaceEmbeddings\n",
    "from langchain.vectorstores import Pinecone\n",
    "import pinecone\n",
    "from langchain.document_loaders import PyPDFLoader, DirectoryLoader\n",
    "from langchain.text_splitter import RecursiveCharacterTextSplitter\n",
    "from langchain.prompts import PromptTemplate\n",
    "from langchain.llms import CTransformers"
   ]
  },
  {
   "cell_type": "code",
   "execution_count": 3,
   "metadata": {},
   "outputs": [],
   "source": [
    "def load_pdf(data):\n",
    "    loader = DirectoryLoader(data,\n",
    "                    glob=\"*.pdf\",\n",
    "                    loader_cls=PyPDFLoader)\n",
    "    \n",
    "    documents = loader.load()\n",
    "\n",
    "    return documents"
   ]
  },
  {
   "cell_type": "code",
   "execution_count": 4,
   "metadata": {},
   "outputs": [],
   "source": [
    "ext_data = load_pdf(\"Data/\")"
   ]
  },
  {
   "cell_type": "code",
   "execution_count": 5,
   "metadata": {},
   "outputs": [],
   "source": [
    "def text_split(ext_data):\n",
    "    text_splitter = RecursiveCharacterTextSplitter(chunk_size=500,chunk_overlap=20)\n",
    "    text_chunks = text_splitter.split_documents(ext_data)\n",
    "\n",
    "    return text_chunks"
   ]
  },
  {
   "cell_type": "code",
   "execution_count": 6,
   "metadata": {},
   "outputs": [],
   "source": [
    "text_chunks = text_split(ext_data)"
   ]
  },
  {
   "cell_type": "code",
   "execution_count": 7,
   "metadata": {},
   "outputs": [
    {
     "name": "stdout",
     "output_type": "stream",
     "text": [
      "7020\n"
     ]
    }
   ],
   "source": [
    "print(len(text_chunks))"
   ]
  },
  {
   "cell_type": "code",
   "execution_count": 8,
   "metadata": {},
   "outputs": [],
   "source": [
    "# #download embedding model\n",
    "# def download_hugging_face_embeddings():\n",
    "#     embeddings = HuggingFaceEmbeddings(model_name=\"sentence-transformers/all-MiniLM-L6-v2\")\n",
    "#     return embeddings\n",
    "# embeddings = download_hugging_face_embeddings()"
   ]
  },
  {
   "cell_type": "code",
   "execution_count": 9,
   "metadata": {},
   "outputs": [],
   "source": [
    "from dotenv import load_dotenv\n",
    "load_dotenv()\n",
    "import os"
   ]
  },
  {
   "cell_type": "code",
   "execution_count": 10,
   "metadata": {},
   "outputs": [],
   "source": [
    "PINECONE1_API_KEY = os.environ.get('PINECONE1_API_KEY')\n"
   ]
  },
  {
   "cell_type": "code",
   "execution_count": 11,
   "metadata": {},
   "outputs": [],
   "source": [
    "from pinecone import Pinecone\n",
    "\n",
    "pc = Pinecone(api_key=PINECONE1_API_KEY)\n",
    "index = pc.Index(\"medicalchatbot\")"
   ]
  },
  {
   "cell_type": "code",
   "execution_count": 12,
   "metadata": {},
   "outputs": [],
   "source": [
    "from sentence_transformers import SentenceTransformer\n",
    "\n",
    "# Function to download the Hugging Face embedding model\n",
    "def download_hugging_face_embeddings():\n",
    "    embeddings = SentenceTransformer(\"sentence-transformers/all-MiniLM-L6-v2\")\n",
    "    return embeddings\n",
    "\n",
    "# Load the Hugging Face embedding model\n",
    "model = download_hugging_face_embeddings()"
   ]
  },
  {
   "cell_type": "code",
   "execution_count": 13,
   "metadata": {},
   "outputs": [],
   "source": [
    "\n",
    "\n",
    "# ### Upserting data with meta data\n",
    "# # Extract the data from text chunks\n",
    "\n",
    "# cleaned_data = [t.page_content for t in text_chunks][2000:3000]\n",
    "\n",
    "# # Generate embeddings for each text chunk\n",
    "# embeddings = model.encode(cleaned_data)\n",
    "\n",
    "# # Formatting for upserting\n",
    "\n",
    "# entries = []\n",
    "# for i, embedding in enumerate(embeddings):\n",
    "#     entry = {\n",
    "#         \"id\": f\"text-{i+3000}\",  # Replace with your ID format\n",
    "#         \"values\": embedding.tolist(),\n",
    "#         \"metadata\": {\"context\":cleaned_data[i]}  # Assuming metadata is provided in the same order as embeddings\n",
    "#     }\n",
    "#     entries.append(entry)\n",
    "\n",
    "# index.upsert(vectors=entries)"
   ]
  },
  {
   "cell_type": "markdown",
   "metadata": {},
   "source": [
    " Querying"
   ]
  },
  {
   "cell_type": "code",
   "execution_count": 14,
   "metadata": {},
   "outputs": [],
   "source": [
    "query_text = \"Tell me about Doppler effect\"\n"
   ]
  },
  {
   "cell_type": "code",
   "execution_count": 15,
   "metadata": {},
   "outputs": [],
   "source": [
    "import torch\n",
    "import numpy as np\n",
    "\n",
    "# Assuming you have already embedded and stored embeddings for this query text\n",
    "# Generate the embedding for the query text (you would typically do this in the embedding step)\n",
    "query_embedding = model.encode([query_text])[0]\n",
    "\n",
    "# Ensure query embedding is a list of floats\n",
    "if isinstance(query_embedding, np.ndarray):\n",
    "    query_embedding = query_embedding.tolist()\n",
    "elif isinstance(query_embedding, torch.Tensor):\n",
    "    query_embedding = query_embedding.tolist()\n",
    "else:\n",
    "    raise ValueError(f\"Unexpected embedding type: {type(query_embedding)}\")\n",
    "\n"
   ]
  },
  {
   "cell_type": "code",
   "execution_count": 16,
   "metadata": {},
   "outputs": [],
   "source": [
    "# Search for similar embeddings\n",
    "results = index.query(vector=query_embedding, top_k=10,include_metadata=True)"
   ]
  },
  {
   "cell_type": "code",
   "execution_count": 17,
   "metadata": {},
   "outputs": [
    {
     "data": {
      "text/plain": [
       "'Doppler —The Doppler effect refers to the apparentchange in frequency of sound wave echoes returningto a stationary source from a moving target. If theobject is moving toward the source, the frequencyincreases; if the object is moving away, the frequen-cy decreases. The size of this frequency shift can beused to compute the object’s speed—be it a car onthe road or blood in an artery. The Doppler effectholds true for all types of radiation, not just sound. capability of accurately measuring velocities of movingmaterial, such as blood in arteries and veins. The prin-ciple is the same as that used in radar guns that measurethe speed of a car on the highway. Doppler capability ismost often combined with B-mode scanning to produceimages of blood vessels from which blood flow can bedirectly measured. This technique is used extensively toinvestigate valve defects, arteriosclerosis and hyper-tension , particularly in the heart, but also in the abdom- of B-mode scans whose images follow each other insequence on screen enables doctors to see and mea-sure range of motion, as the organ boundaries thatproduce reflections move relative to the probe. M-mode ultrasound has been put to particular use instudying heart motion.• Doppler mode. Doppler ultrasonography includes the ultrasound, because thewaves are blocked or become randomly scattered. Buspirone has a low incidence of side effects. Dizzi-ness and drowsiness are the most commonly reportedadverse effects. Other CNS effects include dream distur-bances; depersonalization, dysphoria, noise intolerance,euphoria, akathisia, fearfulness, loss of interest, disasso-ciative reaction, hallucinations , suicidal ideation,seizures; feelings of claustrophobia, cold intolerance,stupor and slurred speech, psychosis. Rarely, heart prob-lems, including congestive heart failure and myocardial Frequency —Sound, whether traveling through airor the human body, produces vibrations—mole-cules bouncing into each other—as the shock wavetravels along. The frequency of a sound is the num-ber of vibrations per second. Within the audiblerange, frequency means pitch—the higher the fre-quency, the higher a sound’s pitch.Ionizing radiation —Radiation that can damage liv- inside a patient without resorting to surgery. A transmit-ter sends high frequency sound waves into the body,where they bounce off the different tissues and organs toproduce a distinctive pattern of echoes. A receiver“hears” the returning echo pattern and forwards it to acomputer, which translates the data into an image on atelevision screen. Because ultrasound can distinguishsubtle variations between soft, fluid-filled tissues, it isparticularly useful in providing diagnostic images of be stronger and may interfere with recovery in peoplewith head injuries.• history of convulsions. Some of these drugs may triggerconvulsions.• asthma, emphysema , or any chronic lung disease• heart disease• kidney disease• liver disease• underactive thyroid. The chance of side effects may begreater.• addison’s disease (a disease of the adrenal glands)• colitis• gallbladder disease or gallstones . Side effects can bedangerous in people with these conditions. anticonvulsant drugs. This may increase the chance ofside effects and overdoses.Special conditionsPeople with certain medical conditions or who aretaking certain other medicines can have problems if theytake anticonvulsant drugs. Before taking these drugs, besure to let the physician know about any of these condi-tions:ALLERGIES. Anyone who has had unusual reactions of a blood vessel that results from relaxation ofsmooth muscle within the wall of the vessel thuscausing an increase in blood flow.body adjusts to the drug and do not require medical treat-ment. If they do not subside or if they interfere with nor-mal activities, the physician should be informed.If any of the following side effects occur, the pre-scribing physician should be notified as soon as possible:• fainting• shortness of breath or difficulty breathing'"
      ]
     },
     "execution_count": 17,
     "metadata": {},
     "output_type": "execute_result"
    }
   ],
   "source": [
    "final_result = [result['metadata']['context'] for result in results['matches']]\n",
    "context = ((\" \".join(final_result)).replace('\\n','')).strip()\n",
    "context\n"
   ]
  },
  {
   "cell_type": "code",
   "execution_count": 18,
   "metadata": {},
   "outputs": [],
   "source": [
    "# Assuming you have loaded your model as\n",
    "# from langchain.llms import CTransformers\n",
    "\n",
    "# llm = CTransformers(model=\"Model/llama-2-7b-chat.ggmlv3.q4_0.bin\",\n",
    "#                     model_type=\"llama\",\n",
    "#                     config={'max_new_tokens': 512,\n",
    "#                             'temperature': 0.8})\n",
    "\n",
    "# Generate response\n",
    "# response = llm(prompt)\n",
    "\n",
    "# print(response)\n",
    "# from langchain.llms import CTransformers\n",
    "# from langchain.prompts import PromptTemplate"
   ]
  },
  {
   "cell_type": "code",
   "execution_count": 21,
   "metadata": {},
   "outputs": [],
   "source": [
    "from langchain.llms import CTransformers\n",
    "from langchain.prompts import PromptTemplate\n",
    "\n",
    "prompt_template = \"\"\"\n",
    "Use the following pieces of information to answer the user's question.\n",
    "If you don't know the answer, just say that you don't know, don't try to make up an answer.\n",
    "\n",
    "Context: {context}\n",
    "\n",
    "Question: {question}\n",
    "\n",
    "Only return the helpful answer below and nothing else.\n",
    "Helpful answer:\n",
    "\"\"\"\n",
    "PROMPT = PromptTemplate(template=prompt_template, input_variables=[\"context\", \"question\"])\n",
    "chain_type_kwargs = {\"prompt\": PROMPT}\n",
    "\n",
    "# Load the model\n",
    "llm = CTransformers(model=\"Model/llama-2-7b-chat.ggmlv3.q4_0.bin\",\n",
    "                    model_type=\"llama\",\n",
    "                    config={'max_new_tokens': 128,\n",
    "                            'temperature': 0.3 })\n",
    "\n",
    "\n",
    "\n",
    "\n",
    "# Define the user's question\n",
    "question = \"What is dopler effect \"\n",
    "\n",
    "# Format the prompt\n",
    "formatted_prompt = PROMPT.format(context=context, question=question)\n",
    "\n"
   ]
  },
  {
   "cell_type": "code",
   "execution_count": 22,
   "metadata": {},
   "outputs": [
    {
     "name": "stdout",
     "output_type": "stream",
     "text": [
      "\n",
      "Use the following pieces of information to answer the user's question.\n",
      "If you don't know the answer, just say that you don't know, don't try to make up an answer.\n",
      "\n",
      "Context: Doppler —The Doppler effect refers to the apparentchange in frequency of sound wave echoes returningto a stationary source from a moving target. If theobject is moving toward the source, the frequencyincreases; if the object is moving away, the frequen-cy decreases. The size of this frequency shift can beused to compute the object’s speed—be it a car onthe road or blood in an artery. The Doppler effectholds true for all types of radiation, not just sound. capability of accurately measuring velocities of movingmaterial, such as blood in arteries and veins. The prin-ciple is the same as that used in radar guns that measurethe speed of a car on the highway. Doppler capability ismost often combined with B-mode scanning to produceimages of blood vessels from which blood flow can bedirectly measured. This technique is used extensively toinvestigate valve defects, arteriosclerosis and hyper-tension , particularly in the heart, but also in the abdom- of B-mode scans whose images follow each other insequence on screen enables doctors to see and mea-sure range of motion, as the organ boundaries thatproduce reflections move relative to the probe. M-mode ultrasound has been put to particular use instudying heart motion.• Doppler mode. Doppler ultrasonography includes the ultrasound, because thewaves are blocked or become randomly scattered. Buspirone has a low incidence of side effects. Dizzi-ness and drowsiness are the most commonly reportedadverse effects. Other CNS effects include dream distur-bances; depersonalization, dysphoria, noise intolerance,euphoria, akathisia, fearfulness, loss of interest, disasso-ciative reaction, hallucinations , suicidal ideation,seizures; feelings of claustrophobia, cold intolerance,stupor and slurred speech, psychosis. Rarely, heart prob-lems, including congestive heart failure and myocardial Frequency —Sound, whether traveling through airor the human body, produces vibrations—mole-cules bouncing into each other—as the shock wavetravels along. The frequency of a sound is the num-ber of vibrations per second. Within the audiblerange, frequency means pitch—the higher the fre-quency, the higher a sound’s pitch.Ionizing radiation —Radiation that can damage liv- inside a patient without resorting to surgery. A transmit-ter sends high frequency sound waves into the body,where they bounce off the different tissues and organs toproduce a distinctive pattern of echoes. A receiver“hears” the returning echo pattern and forwards it to acomputer, which translates the data into an image on atelevision screen. Because ultrasound can distinguishsubtle variations between soft, fluid-filled tissues, it isparticularly useful in providing diagnostic images of be stronger and may interfere with recovery in peoplewith head injuries.• history of convulsions. Some of these drugs may triggerconvulsions.• asthma, emphysema , or any chronic lung disease• heart disease• kidney disease• liver disease• underactive thyroid. The chance of side effects may begreater.• addison’s disease (a disease of the adrenal glands)• colitis• gallbladder disease or gallstones . Side effects can bedangerous in people with these conditions. anticonvulsant drugs. This may increase the chance ofside effects and overdoses.Special conditionsPeople with certain medical conditions or who aretaking certain other medicines can have problems if theytake anticonvulsant drugs. Before taking these drugs, besure to let the physician know about any of these condi-tions:ALLERGIES. Anyone who has had unusual reactions of a blood vessel that results from relaxation ofsmooth muscle within the wall of the vessel thuscausing an increase in blood flow.body adjusts to the drug and do not require medical treat-ment. If they do not subside or if they interfere with nor-mal activities, the physician should be informed.If any of the following side effects occur, the pre-scribing physician should be notified as soon as possible:• fainting• shortness of breath or difficulty breathing\n",
      "\n",
      "Question: What is dopler effect \n",
      "\n",
      "Only return the helpful answer below and nothing else.\n",
      "Helpful answer:\n",
      "\n"
     ]
    }
   ],
   "source": [
    "print(formatted_prompt)"
   ]
  },
  {
   "cell_type": "code",
   "execution_count": 23,
   "metadata": {},
   "outputs": [
    {
     "name": "stdout",
     "output_type": "stream",
     "text": [
      "The Dopprobot responses:\n",
      "The Dopprobot responses: The Dopprobot responses:\n",
      "The Dopprobot responses:\n",
      "You can be given by Dr.\n"
     ]
    }
   ],
   "source": [
    "# Generate response\n",
    "response = llm(formatted_prompt)\n",
    "\n",
    "print(response)"
   ]
  },
  {
   "cell_type": "code",
   "execution_count": null,
   "metadata": {},
   "outputs": [],
   "source": []
  }
 ],
 "metadata": {
  "kernelspec": {
   "display_name": "mchatbot",
   "language": "python",
   "name": "python3"
  },
  "language_info": {
   "codemirror_mode": {
    "name": "ipython",
    "version": 3
   },
   "file_extension": ".py",
   "mimetype": "text/x-python",
   "name": "python",
   "nbconvert_exporter": "python",
   "pygments_lexer": "ipython3",
   "version": "3.8.19"
  }
 },
 "nbformat": 4,
 "nbformat_minor": 2
}
