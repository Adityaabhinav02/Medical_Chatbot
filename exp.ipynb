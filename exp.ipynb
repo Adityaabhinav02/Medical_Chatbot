{
 "cells": [
  {
   "cell_type": "code",
   "execution_count": 2,
   "metadata": {},
   "outputs": [
    {
     "name": "stderr",
     "output_type": "stream",
     "text": [
      "c:\\Users\\adity\\anaconda3\\envs\\mchatbot\\lib\\site-packages\\pinecone\\data\\index.py:1: TqdmWarning: IProgress not found. Please update jupyter and ipywidgets. See https://ipywidgets.readthedocs.io/en/stable/user_install.html\n",
      "  from tqdm.autonotebook import tqdm\n"
     ]
    }
   ],
   "source": [
    "from langchain import PromptTemplate\n",
    "from langchain.chains import RetrievalQA\n",
    "from langchain.embeddings import HuggingFaceEmbeddings\n",
    "from langchain.vectorstores import Pinecone\n",
    "import pinecone\n",
    "from langchain.document_loaders import PyPDFLoader, DirectoryLoader\n",
    "from langchain.text_splitter import RecursiveCharacterTextSplitter\n",
    "from langchain.prompts import PromptTemplate\n",
    "from langchain.llms import CTransformers"
   ]
  },
  {
   "cell_type": "code",
   "execution_count": 3,
   "metadata": {},
   "outputs": [],
   "source": [
    "def load_pdf(data):\n",
    "    loader = DirectoryLoader(data,\n",
    "                    glob=\"*.pdf\",\n",
    "                    loader_cls=PyPDFLoader)\n",
    "    \n",
    "    documents = loader.load()\n",
    "\n",
    "    return documents"
   ]
  },
  {
   "cell_type": "code",
   "execution_count": 4,
   "metadata": {},
   "outputs": [],
   "source": [
    "ext_data = load_pdf(\"Data/\")"
   ]
  },
  {
   "cell_type": "code",
   "execution_count": 5,
   "metadata": {},
   "outputs": [],
   "source": [
    "def text_split(ext_data):\n",
    "    text_splitter = RecursiveCharacterTextSplitter(chunk_size=500,chunk_overlap=20)\n",
    "    text_chunks = text_splitter.split_documents(ext_data)\n",
    "\n",
    "    return text_chunks"
   ]
  },
  {
   "cell_type": "code",
   "execution_count": 6,
   "metadata": {},
   "outputs": [],
   "source": [
    "text_chunks = text_split(ext_data)"
   ]
  },
  {
   "cell_type": "code",
   "execution_count": 7,
   "metadata": {},
   "outputs": [
    {
     "name": "stdout",
     "output_type": "stream",
     "text": [
      "7020\n"
     ]
    }
   ],
   "source": [
    "print(len(text_chunks))"
   ]
  },
  {
   "cell_type": "code",
   "execution_count": 8,
   "metadata": {},
   "outputs": [],
   "source": [
    "# #download embedding model\n",
    "# def download_hugging_face_embeddings():\n",
    "#     embeddings = HuggingFaceEmbeddings(model_name=\"sentence-transformers/all-MiniLM-L6-v2\")\n",
    "#     return embeddings\n",
    "# embeddings = download_hugging_face_embeddings()"
   ]
  },
  {
   "cell_type": "code",
   "execution_count": 9,
   "metadata": {},
   "outputs": [],
   "source": [
    "from dotenv import load_dotenv\n",
    "load_dotenv()\n",
    "import os"
   ]
  },
  {
   "cell_type": "code",
   "execution_count": 10,
   "metadata": {},
   "outputs": [],
   "source": [
    "PINECONE1_API_KEY = os.environ.get('PINECONE1_API_KEY')\n"
   ]
  },
  {
   "cell_type": "code",
   "execution_count": 11,
   "metadata": {},
   "outputs": [],
   "source": [
    "from pinecone import Pinecone\n",
    "\n",
    "pc = Pinecone(api_key=PINECONE1_API_KEY)\n",
    "index = pc.Index(\"medicalchatbot\")"
   ]
  },
  {
   "cell_type": "code",
   "execution_count": 12,
   "metadata": {},
   "outputs": [],
   "source": [
    "from sentence_transformers import SentenceTransformer\n",
    "\n",
    "# Function to download the Hugging Face embedding model\n",
    "def download_hugging_face_embeddings():\n",
    "    embeddings = SentenceTransformer(\"sentence-transformers/all-MiniLM-L6-v2\")\n",
    "    return embeddings\n",
    "\n",
    "# Load the Hugging Face embedding model\n",
    "model = download_hugging_face_embeddings()"
   ]
  },
  {
   "cell_type": "code",
   "execution_count": 13,
   "metadata": {},
   "outputs": [],
   "source": [
    "\n",
    "\n",
    "# ### Upserting data with meta data\n",
    "# # Extract the data from text chunks\n",
    "\n",
    "# cleaned_data = [t.page_content for t in text_chunks][2000:3000]\n",
    "\n",
    "# # Generate embeddings for each text chunk\n",
    "# embeddings = model.encode(cleaned_data)\n",
    "\n",
    "# # Formatting for upserting\n",
    "\n",
    "# entries = []\n",
    "# for i, embedding in enumerate(embeddings):\n",
    "#     entry = {\n",
    "#         \"id\": f\"text-{i+3000}\",  # Replace with your ID format\n",
    "#         \"values\": embedding.tolist(),\n",
    "#         \"metadata\": {\"context\":cleaned_data[i]}  # Assuming metadata is provided in the same order as embeddings\n",
    "#     }\n",
    "#     entries.append(entry)\n",
    "\n",
    "# index.upsert(vectors=entries)"
   ]
  },
  {
   "cell_type": "markdown",
   "metadata": {},
   "source": [
    " Querying"
   ]
  },
  {
   "cell_type": "code",
   "execution_count": 67,
   "metadata": {},
   "outputs": [],
   "source": [
    "query_text = \"acne\"\n"
   ]
  },
  {
   "cell_type": "code",
   "execution_count": 68,
   "metadata": {},
   "outputs": [],
   "source": [
    "import torch\n",
    "import numpy as np\n",
    "\n",
    "# Assuming you have already embedded and stored embeddings for this query text\n",
    "# Generate the embedding for the query text (you would typically do this in the embedding step)\n",
    "query_embedding = model.encode([query_text])[0]\n",
    "\n",
    "# Ensure query embedding is a list of floats\n",
    "if isinstance(query_embedding, np.ndarray):\n",
    "    query_embedding = query_embedding.tolist()\n",
    "elif isinstance(query_embedding, torch.Tensor):\n",
    "    query_embedding = query_embedding.tolist()\n",
    "else:\n",
    "    raise ValueError(f\"Unexpected embedding type: {type(query_embedding)}\")\n",
    "\n"
   ]
  },
  {
   "cell_type": "code",
   "execution_count": 69,
   "metadata": {},
   "outputs": [],
   "source": [
    "# Search for similar embeddings\n",
    "results = index.query(vector=query_embedding, top_k=4,include_metadata=True)"
   ]
  },
  {
   "cell_type": "code",
   "execution_count": 70,
   "metadata": {},
   "outputs": [
    {
     "data": {
      "text/plain": [
       "'GALE ENCYCLOPEDIA OF MEDICINE 2 25AcneAcne vulgaris affecting a woman’s face. Acne is the generalname given to a skin disorder in which the sebaceousglands become inflamed. (Photograph by Biophoto Associ-ates, Photo Researchers, Inc. Reproduced by permission.)GEM - 0001 to 0432 - A  10/22/03 1:41 PM  Page 25 ent purposes. For example, lotions, soaps, gels, andcreams containing benzoyl peroxide or tretinoin may beused to clear up mild to moderately severe acne.Isotretinoin (Accutane) is prescribed only for verysevere, disfiguring acne.Acne is a skin condition that occurs when pores or Cliffs, NJ: Prentice Hall, 1995.Goldstein, Sanford M., and Richard B. Odom. “Skin &Appendages: Pustular Disorders.” In Current MedicalDiagnosis and Treatment, 1996. 35th ed. Ed. StephenMcPhee, et al. Stamford: Appleton & Lange, 1995.Kaptchuk, Ted J., Z’ev Rosenberg, and K’an Herb Co., Inc.K’an Herbals: Formulas by Ted Kaptchuk, O.M.D. SanFrancisco: Andrew Miller, 1996.PERIODICALS“Adult Acne.” Harvard Women’s Health Watch (Mar. 1995): 4-5. Acidosis seeRespiratory acidosis; Renaltubular acidosis; Metabolic acidosisAcneDefinitionAcne is a common skin disease characterized bypimples on the face, chest, and back. It occurs when thepores of the skin become clogged with oil, dead skincells, and bacteria.DescriptionAcne vulgaris, the medical term for common acne, is'"
      ]
     },
     "execution_count": 70,
     "metadata": {},
     "output_type": "execute_result"
    }
   ],
   "source": [
    "final_result = [result['metadata']['context'] for result in results['matches']]\n",
    "context = ((\" \".join(final_result)).replace('\\n','')).strip()\n",
    "context\n"
   ]
  },
  {
   "cell_type": "code",
   "execution_count": 71,
   "metadata": {},
   "outputs": [],
   "source": [
    "from langchain.llms import CTransformers\n",
    "from langchain.prompts import PromptTemplate\n",
    "\n",
    "prompt_template = \"\"\"\n",
    "Use the following pieces of information to answer the user's question.\n",
    "If you don't know the answer, just say that you don't know, don't try to make up an answer.\n",
    "\n",
    "Context: {context}\n",
    "\n",
    "Question: {question}\n",
    "\n",
    "Only return the helpful answer below and nothing else.\n",
    "Helpful answer:\n",
    "\"\"\"\n",
    "PROMPT = PromptTemplate(template=prompt_template, input_variables=[\"context\", \"question\"])\n",
    "# chain_type_kwargs = {\"prompt\": PROMPT}\n",
    "\n",
    "# Load the model\n",
    "llm = CTransformers(model=\"Model/llama-2-7b-chat.ggmlv3.q4_0.bin\",\n",
    "                    model_type=\"llama\",\n",
    "                    config={'max_new_tokens': 128,\n",
    "                            'temperature': 0.3 })\n",
    "\n",
    "\n",
    "\n",
    "\n",
    "# Define the user's question\n",
    "question = \"What is acne and how it is treated? \"\n",
    "\n",
    "# Format the prompt\n",
    "formatted_prompt = PROMPT.format(context=context, question=question)\n",
    "\n"
   ]
  },
  {
   "cell_type": "code",
   "execution_count": 72,
   "metadata": {},
   "outputs": [
    {
     "name": "stdout",
     "output_type": "stream",
     "text": [
      "\n",
      "Use the following pieces of information to answer the user's question.\n",
      "If you don't know the answer, just say that you don't know, don't try to make up an answer.\n",
      "\n",
      "Context: GALE ENCYCLOPEDIA OF MEDICINE 2 25AcneAcne vulgaris affecting a woman’s face. Acne is the generalname given to a skin disorder in which the sebaceousglands become inflamed. (Photograph by Biophoto Associ-ates, Photo Researchers, Inc. Reproduced by permission.)GEM - 0001 to 0432 - A  10/22/03 1:41 PM  Page 25 ent purposes. For example, lotions, soaps, gels, andcreams containing benzoyl peroxide or tretinoin may beused to clear up mild to moderately severe acne.Isotretinoin (Accutane) is prescribed only for verysevere, disfiguring acne.Acne is a skin condition that occurs when pores or Cliffs, NJ: Prentice Hall, 1995.Goldstein, Sanford M., and Richard B. Odom. “Skin &Appendages: Pustular Disorders.” In Current MedicalDiagnosis and Treatment, 1996. 35th ed. Ed. StephenMcPhee, et al. Stamford: Appleton & Lange, 1995.Kaptchuk, Ted J., Z’ev Rosenberg, and K’an Herb Co., Inc.K’an Herbals: Formulas by Ted Kaptchuk, O.M.D. SanFrancisco: Andrew Miller, 1996.PERIODICALS“Adult Acne.” Harvard Women’s Health Watch (Mar. 1995): 4-5. Acidosis seeRespiratory acidosis; Renaltubular acidosis; Metabolic acidosisAcneDefinitionAcne is a common skin disease characterized bypimples on the face, chest, and back. It occurs when thepores of the skin become clogged with oil, dead skincells, and bacteria.DescriptionAcne vulgaris, the medical term for common acne, is\n",
      "\n",
      "Question: What is acne and how it is treated? \n",
      "\n",
      "Only return the helpful answer below and nothing else.\n",
      "Helpful answer:\n",
      "\n"
     ]
    }
   ],
   "source": [
    "print(formatted_prompt)"
   ]
  },
  {
   "cell_type": "code",
   "execution_count": null,
   "metadata": {},
   "outputs": [],
   "source": []
  }
 ],
 "metadata": {
  "kernelspec": {
   "display_name": "mchatbot",
   "language": "python",
   "name": "python3"
  },
  "language_info": {
   "codemirror_mode": {
    "name": "ipython",
    "version": 3
   },
   "file_extension": ".py",
   "mimetype": "text/x-python",
   "name": "python",
   "nbconvert_exporter": "python",
   "pygments_lexer": "ipython3",
   "version": "3.8.19"
  }
 },
 "nbformat": 4,
 "nbformat_minor": 2
}
