{
 "cells": [
  {
   "cell_type": "code",
   "execution_count": 1,
   "metadata": {},
   "outputs": [
    {
     "name": "stderr",
     "output_type": "stream",
     "text": [
      "c:\\Users\\adity\\anaconda3\\envs\\mchatbot\\lib\\site-packages\\pinecone\\data\\index.py:1: TqdmWarning: IProgress not found. Please update jupyter and ipywidgets. See https://ipywidgets.readthedocs.io/en/stable/user_install.html\n",
      "  from tqdm.autonotebook import tqdm\n"
     ]
    }
   ],
   "source": [
    "from langchain import PromptTemplate\n",
    "from langchain.chains import RetrievalQA\n",
    "from langchain.embeddings import HuggingFaceEmbeddings\n",
    "from langchain.vectorstores import Pinecone\n",
    "import pinecone\n",
    "from langchain.document_loaders import PyPDFLoader, DirectoryLoader\n",
    "from langchain.text_splitter import RecursiveCharacterTextSplitter\n",
    "from langchain.prompts import PromptTemplate\n",
    "from langchain.llms import CTransformers"
   ]
  },
  {
   "cell_type": "code",
   "execution_count": 3,
   "metadata": {},
   "outputs": [],
   "source": [
    "def load_pdf(data):\n",
    "    loader = DirectoryLoader(data,\n",
    "                    glob=\"*.pdf\",\n",
    "                    loader_cls=PyPDFLoader)\n",
    "    \n",
    "    documents = loader.load()\n",
    "\n",
    "    return documents"
   ]
  },
  {
   "cell_type": "code",
   "execution_count": 4,
   "metadata": {},
   "outputs": [],
   "source": [
    "ext_data = load_pdf(\"Data/\")"
   ]
  },
  {
   "cell_type": "code",
   "execution_count": 5,
   "metadata": {},
   "outputs": [],
   "source": [
    "def text_split(ext_data):\n",
    "    text_splitter = RecursiveCharacterTextSplitter(chunk_size=500,chunk_overlap=20)\n",
    "    text_chunks = text_splitter.split_documents(ext_data)\n",
    "\n",
    "    return text_chunks"
   ]
  },
  {
   "cell_type": "code",
   "execution_count": 6,
   "metadata": {},
   "outputs": [],
   "source": [
    "text_chunks = text_split(ext_data)"
   ]
  },
  {
   "cell_type": "code",
   "execution_count": 7,
   "metadata": {},
   "outputs": [
    {
     "name": "stdout",
     "output_type": "stream",
     "text": [
      "7020\n"
     ]
    }
   ],
   "source": [
    "print(len(text_chunks))"
   ]
  },
  {
   "cell_type": "code",
   "execution_count": 8,
   "metadata": {},
   "outputs": [],
   "source": [
    "# #download embedding model\n",
    "# def download_hugging_face_embeddings():\n",
    "#     embeddings = HuggingFaceEmbeddings(model_name=\"sentence-transformers/all-MiniLM-L6-v2\")\n",
    "#     return embeddings\n",
    "# embeddings = download_hugging_face_embeddings()"
   ]
  },
  {
   "cell_type": "code",
   "execution_count": 9,
   "metadata": {},
   "outputs": [],
   "source": [
    "from dotenv import load_dotenv\n",
    "load_dotenv()\n",
    "import os"
   ]
  },
  {
   "cell_type": "code",
   "execution_count": 10,
   "metadata": {},
   "outputs": [],
   "source": [
    "PINECONE1_API_KEY = os.environ.get('PINECONE1_API_KEY')\n"
   ]
  },
  {
   "cell_type": "code",
   "execution_count": 11,
   "metadata": {},
   "outputs": [],
   "source": [
    "from pinecone import Pinecone\n",
    "\n",
    "pc = Pinecone(api_key=PINECONE1_API_KEY)\n",
    "index = pc.Index(\"medicalchatbot\")"
   ]
  },
  {
   "cell_type": "code",
   "execution_count": 12,
   "metadata": {},
   "outputs": [],
   "source": [
    "from sentence_transformers import SentenceTransformer\n",
    "\n",
    "# Function to download the Hugging Face embedding model\n",
    "def download_hugging_face_embeddings():\n",
    "    embeddings = SentenceTransformer(\"sentence-transformers/all-MiniLM-L6-v2\")\n",
    "    return embeddings\n",
    "\n",
    "# Load the Hugging Face embedding model\n",
    "model = download_hugging_face_embeddings()"
   ]
  },
  {
   "cell_type": "code",
   "execution_count": 13,
   "metadata": {},
   "outputs": [],
   "source": [
    "\n",
    "\n",
    "# ### Upserting data with meta data\n",
    "# # Extract the data from text chunks\n",
    "\n",
    "# cleaned_data = [t.page_content for t in text_chunks][2000:3000]\n",
    "\n",
    "# # Generate embeddings for each text chunk\n",
    "# embeddings = model.encode(cleaned_data)\n",
    "\n",
    "# # Formatting for upserting\n",
    "\n",
    "# entries = []\n",
    "# for i, embedding in enumerate(embeddings):\n",
    "#     entry = {\n",
    "#         \"id\": f\"text-{i+3000}\",  # Replace with your ID format\n",
    "#         \"values\": embedding.tolist(),\n",
    "#         \"metadata\": {\"context\":cleaned_data[i]}  # Assuming metadata is provided in the same order as embeddings\n",
    "#     }\n",
    "#     entries.append(entry)\n",
    "\n",
    "# index.upsert(vectors=entries)"
   ]
  },
  {
   "cell_type": "markdown",
   "metadata": {},
   "source": [
    " Querying"
   ]
  },
  {
   "cell_type": "code",
   "execution_count": 14,
   "metadata": {},
   "outputs": [],
   "source": [
    "query_text = \"Tell me about JaThe Doppler effect\"\n"
   ]
  },
  {
   "cell_type": "code",
   "execution_count": 15,
   "metadata": {},
   "outputs": [],
   "source": [
    "import torch\n",
    "import numpy as np\n",
    "\n",
    "# Assuming you have already embedded and stored embeddings for this query text\n",
    "# Generate the embedding for the query text (you would typically do this in the embedding step)\n",
    "query_embedding = model.encode([query_text])[0]\n",
    "\n",
    "# Ensure query embedding is a list of floats\n",
    "if isinstance(query_embedding, np.ndarray):\n",
    "    query_embedding = query_embedding.tolist()\n",
    "elif isinstance(query_embedding, torch.Tensor):\n",
    "    query_embedding = query_embedding.tolist()\n",
    "else:\n",
    "    raise ValueError(f\"Unexpected embedding type: {type(query_embedding)}\")\n",
    "\n"
   ]
  },
  {
   "cell_type": "code",
   "execution_count": 16,
   "metadata": {},
   "outputs": [],
   "source": [
    "# Search for similar embeddings\n",
    "results = index.query(vector=query_embedding, top_k=10,include_metadata=True)\n",
    "\n"
   ]
  },
  {
   "cell_type": "code",
   "execution_count": 17,
   "metadata": {},
   "outputs": [
    {
     "data": {
      "text/plain": [
       "'Doppler —The Doppler effect refers to the apparentchange in frequency of sound wave echoes returningto a stationary source from a moving target. If theobject is moving toward the source, the frequencyincreases; if the object is moving away, the frequen-cy decreases. The size of this frequency shift can beused to compute the object’s speed—be it a car onthe road or blood in an artery. The Doppler effectholds true for all types of radiation, not just sound. capability of accurately measuring velocities of movingmaterial, such as blood in arteries and veins. The prin-ciple is the same as that used in radar guns that measurethe speed of a car on the highway. Doppler capability ismost often combined with B-mode scanning to produceimages of blood vessels from which blood flow can bedirectly measured. This technique is used extensively toinvestigate valve defects, arteriosclerosis and hyper-tension , particularly in the heart, but also in the abdom- ing tissue by disrupting and destroying individualcells at the molecular level. All types of nuclearradiation—x rays, gamma rays and beta rays—arepotentially ionizing. Sound waves physically vibratethe material through which they pass, but do notionize it.Jaundice —A condition that results in a yellow tint improve overall functioning, both mental and physical, itoffers a wide range of benefits. Nikolaas Tinbergen, in his1973 Nobel lecture, hailed the “striking improvements insuch diverse things as high blood pressure, breathing,depth of sleep, overall cheerfulness and mental alertness,resilience against outside pressures, and the refined skillof playing a musical instrument.” He went on to quote alist of other conditions helped by the Alexander tech-nique: “rheumatism, including various forms of being performed, the contrast medium is either injectedby hand with a syringe or is mechanically injected withan automatic injector connected to the catheter. Anautomatic injector is used frequently because it is ableto propel a large volume of dye very quickly to theangiogram site. The patient is warned that the injectionwill start, and instructed to remain very still. The injec-tion causes some mild to moderate discomfort. Possibleside effects or reactions include headache ,dizziness , the infu-sion to help reduce side effects. directed. Never take larger or more frequent doses, anddo not take the drug for longer than directed. Do not stoptaking the medicine just because it does not seem to beworking. Several weeks may be needed for its effects tobe felt. Visit the physician as often as recommended sothat the physician can check to see if the drug is workingand to note for side effects.Do not stop taking this medicine suddenly after tak- effects. These may include administration of antinause-ant medications to reduce nausea and vomiting, main-taining fluid levels to reduce drug toxicity, particularly tothe kidneys, or application of a scalp tourniquet to reduceblood flow to the scalp and minimize hair loss due todrug therapy.Patients receiving chemotherapy are also at risk ofinfections due to reduced white blood counts. While pro-phylactic antibiotics may be useful, the health care pro- Buspirone has a low incidence of side effects. Dizzi-ness and drowsiness are the most commonly reportedadverse effects. Other CNS effects include dream distur-bances; depersonalization, dysphoria, noise intolerance,euphoria, akathisia, fearfulness, loss of interest, disasso-ciative reaction, hallucinations , suicidal ideation,seizures; feelings of claustrophobia, cold intolerance,stupor and slurred speech, psychosis. Rarely, heart prob-lems, including congestive heart failure and myocardial the drug effects before administering the next dose. Dosesare often calculated, not on the basis of weight, but ratherbased on blood counts, in order to avoid dangerous levelsof anemia (red cell depletion), neutropenia (white celldeficiency), or thrombocytopenia (platelet deficiency.)Nausea and vomiting are among the most commonadverse effects of cancer chemotherapy, and in somecases may be severe enough to cause dose reduction ordiscontinuation of treatment.'"
      ]
     },
     "execution_count": 17,
     "metadata": {},
     "output_type": "execute_result"
    }
   ],
   "source": [
    "final_result = [result['metadata']['context'] for result in results['matches']]\n",
    "context = ((\" \".join(final_result)).replace('\\n','')).strip()\n",
    "context\n"
   ]
  },
  {
   "cell_type": "code",
   "execution_count": 24,
   "metadata": {},
   "outputs": [],
   "source": [
    "# # Assuming you have loaded your model as\n",
    "# from langchain.llms import CTransformers\n",
    "\n",
    "# llm = CTransformers(model=\"model/llama-2-7b-chat.ggmlv3.q4_0.bin\",\n",
    "#                     model_type=\"llama\",\n",
    "#                     config={'max_new_tokens': 512,\n",
    "#                             'temperature': 0.8})\n",
    "\n",
    "# # Generate response\n",
    "# response = llm(prompt)\n",
    "\n",
    "# print(response)\n",
    "# from langchain.llms import CTransformers\n",
    "# from langchain.prompts import PromptTemplate"
   ]
  },
  {
   "cell_type": "code",
   "execution_count": 18,
   "metadata": {},
   "outputs": [],
   "source": [
    "from langchain.llms import CTransformers\n",
    "from langchain.prompts import PromptTemplate\n",
    "\n",
    "prompt_template = \"\"\"\n",
    "Use the following pieces of information to answer the user's question.\n",
    "If you don't know the answer, just say that you don't know, don't try to make up an answer.\n",
    "\n",
    "Context: {context}\n",
    "\n",
    "Question: {question}\n",
    "\n",
    "Only return the helpful answer below and nothing else.\n",
    "Helpful answer:\n",
    "\"\"\"\n",
    "PROMPT = PromptTemplate(template=prompt_template, input_variables=[\"context\", \"question\"])\n",
    "chain_type_kwargs = {\"prompt\": PROMPT}\n",
    "\n",
    "# Load the model\n",
    "llm = CTransformers(model=\"model/llama-2-7b-chat.ggmlv3.q4_0.bin\",\n",
    "                    model_type=\"llama\",\n",
    "                    config={'max_new_tokens': 512,\n",
    "                            'temperature': 0.3})\n",
    "\n",
    "\n",
    "# Define the user's question\n",
    "question = \"What is dopler effect tell me in 20 words \"\n",
    "\n",
    "# Format the prompt\n",
    "formatted_prompt = PROMPT.format(context=context, question=question)\n",
    "\n"
   ]
  },
  {
   "cell_type": "code",
   "execution_count": 19,
   "metadata": {},
   "outputs": [
    {
     "name": "stdout",
     "output_type": "stream",
     "text": [
      "\n",
      "Use the following pieces of information to answer the user's question.\n",
      "If you don't know the answer, just say that you don't know, don't try to make up an answer.\n",
      "\n",
      "Context: Doppler —The Doppler effect refers to the apparentchange in frequency of sound wave echoes returningto a stationary source from a moving target. If theobject is moving toward the source, the frequencyincreases; if the object is moving away, the frequen-cy decreases. The size of this frequency shift can beused to compute the object’s speed—be it a car onthe road or blood in an artery. The Doppler effectholds true for all types of radiation, not just sound. capability of accurately measuring velocities of movingmaterial, such as blood in arteries and veins. The prin-ciple is the same as that used in radar guns that measurethe speed of a car on the highway. Doppler capability ismost often combined with B-mode scanning to produceimages of blood vessels from which blood flow can bedirectly measured. This technique is used extensively toinvestigate valve defects, arteriosclerosis and hyper-tension , particularly in the heart, but also in the abdom- ing tissue by disrupting and destroying individualcells at the molecular level. All types of nuclearradiation—x rays, gamma rays and beta rays—arepotentially ionizing. Sound waves physically vibratethe material through which they pass, but do notionize it.Jaundice —A condition that results in a yellow tint improve overall functioning, both mental and physical, itoffers a wide range of benefits. Nikolaas Tinbergen, in his1973 Nobel lecture, hailed the “striking improvements insuch diverse things as high blood pressure, breathing,depth of sleep, overall cheerfulness and mental alertness,resilience against outside pressures, and the refined skillof playing a musical instrument.” He went on to quote alist of other conditions helped by the Alexander tech-nique: “rheumatism, including various forms of being performed, the contrast medium is either injectedby hand with a syringe or is mechanically injected withan automatic injector connected to the catheter. Anautomatic injector is used frequently because it is ableto propel a large volume of dye very quickly to theangiogram site. The patient is warned that the injectionwill start, and instructed to remain very still. The injec-tion causes some mild to moderate discomfort. Possibleside effects or reactions include headache ,dizziness , the infu-sion to help reduce side effects. directed. Never take larger or more frequent doses, anddo not take the drug for longer than directed. Do not stoptaking the medicine just because it does not seem to beworking. Several weeks may be needed for its effects tobe felt. Visit the physician as often as recommended sothat the physician can check to see if the drug is workingand to note for side effects.Do not stop taking this medicine suddenly after tak- effects. These may include administration of antinause-ant medications to reduce nausea and vomiting, main-taining fluid levels to reduce drug toxicity, particularly tothe kidneys, or application of a scalp tourniquet to reduceblood flow to the scalp and minimize hair loss due todrug therapy.Patients receiving chemotherapy are also at risk ofinfections due to reduced white blood counts. While pro-phylactic antibiotics may be useful, the health care pro- Buspirone has a low incidence of side effects. Dizzi-ness and drowsiness are the most commonly reportedadverse effects. Other CNS effects include dream distur-bances; depersonalization, dysphoria, noise intolerance,euphoria, akathisia, fearfulness, loss of interest, disasso-ciative reaction, hallucinations , suicidal ideation,seizures; feelings of claustrophobia, cold intolerance,stupor and slurred speech, psychosis. Rarely, heart prob-lems, including congestive heart failure and myocardial the drug effects before administering the next dose. Dosesare often calculated, not on the basis of weight, but ratherbased on blood counts, in order to avoid dangerous levelsof anemia (red cell depletion), neutropenia (white celldeficiency), or thrombocytopenia (platelet deficiency.)Nausea and vomiting are among the most commonadverse effects of cancer chemotherapy, and in somecases may be severe enough to cause dose reduction ordiscontinuation of treatment.\n",
      "\n",
      "Question: What is dopler effect tell me in 20 words \n",
      "\n",
      "Only return the helpful answer below and nothing else.\n",
      "Helpful answer:\n",
      "\n"
     ]
    }
   ],
   "source": [
    "print(formatted_prompt)"
   ]
  },
  {
   "cell_type": "code",
   "execution_count": 20,
   "metadata": {},
   "outputs": [
    {
     "name": "stdout",
     "output_type": "stream",
     "text": [
      "The Dopplications such as a)\n",
      "The Dopproentire,\n",
      "The Dopplication.\n",
      "The Dopp.\n",
      "The Dopplication of blood flowing a)\n",
      "The Dopplication.\n",
      "The Dopplication,\n",
      "The Dopp.\n",
      "The Dopp.\n",
      "The Doppppl\n",
      "The Dopprojecteducation, The Dopplications,\n",
      "The Dopplication.\n",
      "The Dopp \n",
      "The Dopppppplication of blood flowing the Doppppppppppls\n",
      "The Dopplications,\n",
      "The Dopppppp.\n",
      "The Dopplication of course,\n",
      "The Dopplications,\n",
      "The Dopppprobotan Alexander technique is a)\n",
      "The Dopp.\n",
      "The Dopp\n",
      "The Dopppppplications,\n",
      "The Dopplication.\n",
      "The Dopp.\n",
      "The Dopppppppppplication,\n",
      "The Dopppplications of course,\n",
      "The Dopp\n",
      "The Dopplication or mechanically injecteducation and hyper- The Dopprojecting the Dopplication.\n",
      "The Dopp.\n",
      "The Dopppppppppplication,\n",
      "The Dopplication,\n",
      "The Dopplications,\n",
      "The Dopp.\n",
      "The Dopplication of blood pressure,\n",
      "The Dopp.\n",
      "The Dopp.\n",
      "The Dopppppplication.\n",
      "The Dopppprobotan increase in the Dopp.\n",
      "The Dopp.\n",
      "The Dopppppp.\n",
      "The Dopplication. The Dopplications,\n",
      "The Dopp.\n",
      "The Dopplication of course,\n",
      "The Dopplications as pertainting a)\n",
      "The Dopp.\n",
      "The Dopp.\n",
      "The Dopppprobotan increase in the Dopprojected to measure the Dopp.\n",
      "The Dopplications,\n",
      "The Dopppp.\n",
      "The Doppls.\n",
      "The Dopplication. The Dopplication of course,\n",
      "The Dopplications,\n",
      "The Dopp.\n",
      "The Dopp\n",
      "Thank you can be used extensively,\n",
      "The Alexander technique is a)\n",
      "The Dopplication.\n",
      "The Dopplications,\n",
      "The Dopplications such as a)\n",
      "The Dopprobotan object moving toward the Dopp.\n",
      "The Dopplication of course,\n",
      "The Dopplication of blood flowing a.\n",
      "The Doppl\n",
      "The Dopplications such as an increase in the\n"
     ]
    }
   ],
   "source": [
    "# Generate response\n",
    "response = llm(formatted_prompt)\n",
    "\n",
    "print(response)"
   ]
  },
  {
   "cell_type": "code",
   "execution_count": null,
   "metadata": {},
   "outputs": [],
   "source": []
  },
  {
   "cell_type": "code",
   "execution_count": null,
   "metadata": {},
   "outputs": [],
   "source": []
  },
  {
   "cell_type": "code",
   "execution_count": null,
   "metadata": {},
   "outputs": [],
   "source": []
  }
 ],
 "metadata": {
  "kernelspec": {
   "display_name": "mchatbot",
   "language": "python",
   "name": "python3"
  },
  "language_info": {
   "codemirror_mode": {
    "name": "ipython",
    "version": 3
   },
   "file_extension": ".py",
   "mimetype": "text/x-python",
   "name": "python",
   "nbconvert_exporter": "python",
   "pygments_lexer": "ipython3",
   "version": "3.8.19"
  }
 },
 "nbformat": 4,
 "nbformat_minor": 2
}
